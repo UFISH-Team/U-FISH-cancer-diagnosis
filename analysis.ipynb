{
 "cells": [
  {
   "cell_type": "code",
   "execution_count": 1,
   "metadata": {},
   "outputs": [],
   "source": [
    "from pathlib import Path\n",
    "import PIL\n",
    "import numpy as np\n",
    "import matplotlib.pyplot as plt \n",
    "\n",
    "from ufish.api import UFish\n",
    "from cellpose import models\n",
    "\n",
    "from utils import get_merge_and_split_masks, assign_spots\n",
    "from skimage.measure import regionprops, label"
   ]
  },
  {
   "cell_type": "code",
   "execution_count": 2,
   "metadata": {},
   "outputs": [
    {
     "name": "stdout",
     "output_type": "stream",
     "text": [
      "{'Dual fusion': WindowsPath('data/Dual fusion.TIF'), 'separation probe': WindowsPath('data/separation probe.TIF'), 'Trisomy 8': WindowsPath('data/Trisomy 8.TIF')}\n"
     ]
    }
   ],
   "source": [
    "# Cancer pathology samples\n",
    "data_dir = \"./data/\"\n",
    "img_paths = {\n",
    "    path.stem: path for path in Path(data_dir).glob(\"*.TIF\")\n",
    "}\n",
    "\n",
    "print(img_paths)\n",
    "\n",
    "images = {\n",
    "    name: np.array(PIL.Image.open(path))\n",
    "    for name, path in img_paths.items()\n",
    "}"
   ]
  },
  {
   "cell_type": "code",
   "execution_count": 3,
   "metadata": {},
   "outputs": [
    {
     "name": "stderr",
     "output_type": "stream",
     "text": [
      "\u001b[32m2024-06-18 12:18:57.264\u001b[0m | \u001b[1mINFO    \u001b[0m | \u001b[36mufish.api\u001b[0m:\u001b[36m_load_onnx\u001b[0m:\u001b[36m296\u001b[0m - \u001b[1mLoading ONNX from ./v1.0.1-DNAFISH_model.onnx\u001b[0m\n",
      "\u001b[32m2024-06-18 12:18:57.265\u001b[0m | \u001b[1mINFO    \u001b[0m | \u001b[36mufish.api\u001b[0m:\u001b[36m_load_onnx\u001b[0m:\u001b[36m303\u001b[0m - \u001b[1mUsing ONNX runtime providers: ['CPUExecutionProvider']\u001b[0m\n"
     ]
    },
    {
     "data": {
      "text/plain": [
       "<ufish.api.UFish at 0x2b4920d3f40>"
      ]
     },
     "execution_count": 3,
     "metadata": {},
     "output_type": "execute_result"
    }
   ],
   "source": [
    "# initialize cellpose model\n",
    "cp = models.Cellpose(gpu=False, model_type=\"nuclei\")\n",
    "\n",
    "# initialize ufish model\n",
    "uf = UFish(device=\"cpu\")\n",
    "uf.load_weights(\"./v1.0.1-DNAFISH_model.onnx\")"
   ]
  },
  {
   "cell_type": "code",
   "execution_count": 5,
   "metadata": {},
   "outputs": [],
   "source": [
    "from utils import segment_cells"
   ]
  },
  {
   "cell_type": "code",
   "execution_count": 7,
   "metadata": {},
   "outputs": [],
   "source": [
    "def extract_cells(image: np.ndarray, mask: np.ndarray, target_size=128):\n",
    "    cell_rois = []\n",
    "    cell_props = []\n",
    "    cell_masks = []\n",
    "\n",
    "    props = regionprops(mask)\n",
    "\n",
    "    for prop in props:\n",
    "        x0, y0, x1, y1 = prop.bbox\n",
    "        w, h = x1 - x0, y1 - y0\n",
    "        long_side = max(w, h)\n",
    "        if long_side > target_size:\n",
    "            continue\n",
    "        roi = np.zeros(\n",
    "            (target_size, target_size, image.shape[2]),\n",
    "            dtype=image.dtype\n",
    "        )\n",
    "        start_y = (target_size - h) // 2\n",
    "        start_x = (target_size - w) // 2\n",
    "        coords = prop.coords\n",
    "        roi_y = coords[:, 0] - x0 + start_y\n",
    "        roi_x = coords[:, 1] - y0 + start_x\n",
    "        roi[roi_y, roi_x] = image[coords[:, 0], coords[:, 1], :]\n",
    "        cell_rois.append(roi)\n",
    "        cell_props.append(prop)\n",
    "        cell_mask = np.zeros((target_size, target_size), dtype=np.uint8)\n",
    "        cell_mask[roi_y, roi_x] = 1\n",
    "        cell_masks.append(cell_mask)\n",
    "    return cell_rois, cell_masks, cell_props\n"
   ]
  },
  {
   "cell_type": "code",
   "execution_count": 6,
   "metadata": {},
   "outputs": [
    {
     "name": "stdout",
     "output_type": "stream",
     "text": [
      "Processing image:\n",
      "Image shape: (3000, 4096, 3)\n",
      "Step 1: segment cells\n",
      "Step 2: extract ROIs\n"
     ]
    },
    {
     "ename": "NameError",
     "evalue": "name 'extract_cells' is not defined",
     "output_type": "error",
     "traceback": [
      "\u001b[1;31m---------------------------------------------------------------------------\u001b[0m",
      "\u001b[1;31mNameError\u001b[0m                                 Traceback (most recent call last)",
      "Cell \u001b[1;32mIn[6], line 16\u001b[0m\n\u001b[0;32m     13\u001b[0m masks \u001b[38;5;241m=\u001b[39m segment_cells(cellpose_instance, img)\n\u001b[0;32m     15\u001b[0m \u001b[38;5;28mprint\u001b[39m(\u001b[38;5;124m\"\u001b[39m\u001b[38;5;124mStep 2: extract ROIs\u001b[39m\u001b[38;5;124m\"\u001b[39m)\n\u001b[1;32m---> 16\u001b[0m cell_rois, cell_masks, cell_props \u001b[38;5;241m=\u001b[39m \u001b[43mextract_cells\u001b[49m(img, masks)\n\u001b[0;32m     18\u001b[0m \u001b[38;5;28mprint\u001b[39m(\u001b[38;5;124m\"\u001b[39m\u001b[38;5;124mStep 3: call spots and assign spots\u001b[39m\u001b[38;5;124m\"\u001b[39m)\n\u001b[0;32m     19\u001b[0m table \u001b[38;5;241m=\u001b[39m []\n",
      "\u001b[1;31mNameError\u001b[0m: name 'extract_cells' is not defined"
     ]
    }
   ],
   "source": [
    "#def pipeline(\n",
    "#        cellpose_instance, ufish_instance,\n",
    "#        img, signal_channels=[0, 1],\n",
    "#        ):\n",
    "cellpose_instance = cp\n",
    "ufish_instance = uf\n",
    "img = images[\"Dual fusion\"]\n",
    "signal_channels = [0, 1]\n",
    "\n",
    "print(\"---------- Begin pipeline ----------\")\n",
    "print(f\"Image shape: {img.shape}\")\n",
    "print(\"Step 1: segment cells\")\n",
    "mask = segment_cells(cellpose_instance, img)\n",
    "print(f\"Number of cells: {max(mask)}\")\n",
    "\n",
    "print(\"Step 2: call signals\")\n",
    "# get signal masks\n",
    "merge_mask, signal_masks_sub = get_signal_masks(uf, img, mask, signal_channels)\n",
    "signal_masks = np.array([merge_mask] + signal_masks_sub)\n",
    "\n",
    "print(\"Step 3: extract ROIs\")\n",
    "cell_rois, cell_masks, cell_props = extract_cells(signal_masks, mask)\n",
    "\n",
    "print(\"Step 3: call spots and assign spots\")\n",
    "table = []\n",
    "cell_signals = []\n",
    "for i, c_roi in enumerate(cell_rois):\n",
    "    signals = {}\n",
    "    for ch in signal_channels:\n",
    "        signals[f\"ch{ch+1}\"] = []\n",
    "    name = \"+\".join([f\"ch{ch+1}\" for ch in signal_channels])\n",
    "    signals[name] = []\n",
    "    merge_mask, signal_masks_sub = get_signal_masks()\n",
    "        ufish_instance, c_roi, signal_channels,\n",
    "        quantile=20, square_size=5)\n",
    "    if signal_masks is None:\n",
    "        for ch in signal_channels:\n",
    "            signals[f\"ch{ch+1}\"] = []\n",
    "        name = \"+\".join([f\"ch{ch+1}\" for ch in signal_channels])\n",
    "        signals[name] = []\n",
    "    else:\n",
    "        for ch in signal_channels:\n",
    "            single_ch = regionprops(label(signal_masks_sub[ch]))\n",
    "            spots = np.array([cc.centroid for cc in single_ch])\n",
    "            signals[f\"ch{ch+1}\"] = spots\n",
    "\n",
    "        merged = regionprops(label(merge_mask))\n",
    "        spots = np.array([cc.centroid for cc in merged])\n",
    "        name = \"+\".join([f\"ch{ch+1}\" for ch in signal_channels])\n",
    "        signals[name] = spots\n",
    "\n",
    "    assigns = {}\n",
    "    for name, spots in signals.items():\n",
    "        try:\n",
    "            assigns[name] = assign_spots(spots, cell_masks[w], 30)\n",
    "        except Exception:\n",
    "            assigns[name] = []\n",
    "\n",
    "    df = {\n",
    "        key: sum(value) for key, value in assigns.items()\n",
    "        if isinstance(value, np.ndarray)\n",
    "    }\n",
    "    df[\"cell_id\"] = f'{w+1}'\n",
    "    last_key = list(df.keys())[-1]\n",
    "    last_value = df.pop(last_key)\n",
    "    df = {last_key: last_value, **df}\n",
    "    table.append(df)\n",
    "    cell_signals.append(signals)\n"
   ]
  },
  {
   "cell_type": "code",
   "execution_count": null,
   "metadata": {},
   "outputs": [],
   "source": []
  }
 ],
 "metadata": {
  "kernelspec": {
   "display_name": "ufish",
   "language": "python",
   "name": "python3"
  },
  "language_info": {
   "codemirror_mode": {
    "name": "ipython",
    "version": 3
   },
   "file_extension": ".py",
   "mimetype": "text/x-python",
   "name": "python",
   "nbconvert_exporter": "python",
   "pygments_lexer": "ipython3",
   "version": "3.10.13"
  }
 },
 "nbformat": 4,
 "nbformat_minor": 2
}
