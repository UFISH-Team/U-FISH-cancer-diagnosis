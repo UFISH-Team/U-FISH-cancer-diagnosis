{
 "cells": [
  {
   "cell_type": "code",
   "execution_count": 22,
   "metadata": {},
   "outputs": [],
   "source": [
    "from pathlib import Path\n",
    "import PIL\n",
    "import numpy as np\n",
    "import pandas as pd\n",
    "import matplotlib.pyplot as plt\n",
    "import sys\n",
    "import os\n",
    "\n",
    "from loguru import logger as log\n",
    "log.remove()\n",
    "log.add(sys.stdout, level=\"ERROR\")\n",
    "\n",
    "\n",
    "from ufish.api import UFish\n",
    "from cellpose import models\n",
    "\n",
    "from utils import (\n",
    "    get_signal_masks, assign_spots, segment_cells, extract_cells,\n",
    "    plot_figs, plot_all_rois, plot_on_img\n",
    ")\n",
    "from skimage.measure import regionprops, label"
   ]
  },
  {
   "cell_type": "code",
   "execution_count": 23,
   "metadata": {},
   "outputs": [
    {
     "name": "stdout",
     "output_type": "stream",
     "text": [
      "Sample dirs: ['F2410254A_POS_0.80', 'F2409132A_POS_0.13']\n",
      "{'F2410254A.299': PosixPath('/home/qzhang/dnafish_data/PML-RARA-Fusion/F2410254A_POS_0.80/F2410254A.299.TIF'), 'F2410254A.1': PosixPath('/home/qzhang/dnafish_data/PML-RARA-Fusion/F2410254A_POS_0.80/F2410254A.1.TIF'), 'F2409132A.268': PosixPath('/home/qzhang/dnafish_data/PML-RARA-Fusion/F2409132A_POS_0.13/F2409132A.268.TIF'), 'F2409132A.1': PosixPath('/home/qzhang/dnafish_data/PML-RARA-Fusion/F2409132A_POS_0.13/F2409132A.1.TIF')}\n"
     ]
    }
   ],
   "source": [
    "# Cancer pathology samples : PML/RARA\n",
    "data_dir = \"/home/qzhang/dnafish_data/PML-RARA-Fusion\"\n",
    "\n",
    "if not os.path.exists(data_dir):\n",
    "    raise FileNotFoundError(f\"The directory {data_dir} does not exist.\")\n",
    "\n",
    "sample = os.listdir(data_dir)\n",
    "print(\"Sample dirs:\", sample)\n",
    "\n",
    "img_paths = {}\n",
    "\n",
    "for s in sample:\n",
    "    sample_path = os.path.join(data_dir, s)\n",
    "    if os.path.isdir(sample_path):\n",
    "        for path in Path(sample_path).glob(\"*.TIF\"):\n",
    "            img_paths[path.stem] = path\n",
    "\n",
    "print(img_paths)\n",
    "\n",
    "images = {\n",
    "    name: np.array(PIL.Image.open(path))\n",
    "    for name, path in img_paths.items()\n",
    "}\n"
   ]
  },
  {
   "cell_type": "code",
   "execution_count": 24,
   "metadata": {},
   "outputs": [
    {
     "name": "stderr",
     "output_type": "stream",
     "text": [
      "/home/qzhang/.local/lib/python3.10/site-packages/onnxruntime/capi/onnxruntime_inference_collection.py:69: UserWarning: Specified provider 'CUDAExecutionProvider' is not in available provider names.Available providers: 'AzureExecutionProvider, CPUExecutionProvider'\n",
      "  warnings.warn(\n"
     ]
    },
    {
     "data": {
      "text/plain": [
       "<ufish.api.UFish at 0x7f14cdd9a1a0>"
      ]
     },
     "execution_count": 24,
     "metadata": {},
     "output_type": "execute_result"
    }
   ],
   "source": [
    "# initialize cellpose model\n",
    "cp = models.Cellpose(gpu=False, model_type=\"nuclei\")\n",
    "\n",
    "# initialize ufish model\n",
    "uf = UFish()\n",
    "uf.load_weights(\"./v1.0.1-DNAFISH_model.onnx\")"
   ]
  },
  {
   "cell_type": "code",
   "execution_count": 25,
   "metadata": {},
   "outputs": [],
   "source": [
    "def filter_cell_by_prop(\n",
    "        prop,\n",
    "        img_size,\n",
    "        area_threshold=1000,\n",
    "        axis_ratio_threshold=0.5,\n",
    "        border_threshold=1\n",
    "        ):\n",
    "    close_to_edge = False\n",
    "    if prop.coords[:, 0].min() <= border_threshold or \\\n",
    "            prop.coords[:, 0].max() >= img_size[0] - border_threshold or \\\n",
    "            prop.coords[:, 1].min() <= border_threshold or \\\n",
    "            prop.coords[:, 1].max() >= img_size[1] - border_threshold:\n",
    "        close_to_edge = True\n",
    "    if close_to_edge:\n",
    "        return False\n",
    "    if prop.area < area_threshold:\n",
    "        return False\n",
    "    axis_ratio = prop.minor_axis_length / prop.major_axis_length\n",
    "    if axis_ratio < axis_ratio_threshold:\n",
    "        return False\n",
    "    return True\n",
    "\n",
    "def filter_cell_by_signals(\n",
    "        signals, num_thresh_per_channel=3, num_thresh=5):\n",
    "    count = 0\n",
    "    for _, signal in signals.items():\n",
    "        count += signal.shape[0]\n",
    "        if signal.shape[0] > num_thresh_per_channel:\n",
    "            return False\n",
    "    if count < 2:\n",
    "        return False\n",
    "    if count > num_thresh:\n",
    "        return False\n",
    "    return True"
   ]
  },
  {
   "cell_type": "code",
   "execution_count": 26,
   "metadata": {},
   "outputs": [],
   "source": [
    "from skimage.morphology import dilation, disk\n",
    "\n",
    "# Define pipeline\n",
    "def pipeline(img, signal_channels=[0, 1]):\n",
    "    print(\"---------- Begin pipeline ----------\")\n",
    "    print(f\"Image shape: {img.shape}\")\n",
    "    print(\"Step 1: segment cells\")\n",
    "    mask = segment_cells(cp, img)\n",
    "    print(f\"Number of cells: {mask.max()}\")\n",
    "    mask = dilation(mask, disk(3))\n",
    "\n",
    "    print(\"Step 2: extract ROIs\")\n",
    "    cell_rois, cell_masks, cell_props = extract_cells(\n",
    "        img, mask, target_size=128)\n",
    "    \n",
    "    print(\"Step 3: call signals and assign spots for each cell\")\n",
    "    table = []\n",
    "    cell_signals = []\n",
    "    new_cell_rois = []\n",
    "    new_cell_masks = []\n",
    "    new_cell_props = []\n",
    "    filtered_by_prop = []\n",
    "    filtered_by_signals = []\n",
    "    for c, cell_roi in enumerate(cell_rois):\n",
    "        cell_prop = cell_props[c]\n",
    "        if not filter_cell_by_prop(cell_prop, mask.shape):\n",
    "            filtered_by_prop.append(c)\n",
    "            continue\n",
    "        signal_mask_merge, signal_masks_sub = get_signal_masks(\n",
    "            uf, cell_roi, signal_channels, quantile=5,\n",
    "            mask_dilation_size=4, hard_threshold=30\n",
    "        )\n",
    "        signals = {}\n",
    "        for ch in signal_channels:\n",
    "            signals[f\"ch{ch+1}\"] = []\n",
    "        name = \"+\".join([f\"ch{ch+1}\" for ch in signal_channels])\n",
    "        signals[name] = []\n",
    "        for i, ch in enumerate(signal_channels):\n",
    "            single_ch = regionprops(label(signal_masks_sub[i]))\n",
    "            spots = np.array([cc.centroid for cc in single_ch])\n",
    "            signals[f\"ch{ch+1}\"] = spots\n",
    "        merged = regionprops(label(signal_mask_merge))\n",
    "        spots = np.array([cc.centroid for cc in merged])\n",
    "        name = \"+\".join([f\"ch{ch+1}\" for ch in signal_channels])\n",
    "        signals[name] = spots\n",
    "\n",
    "        if not filter_cell_by_signals(signals):\n",
    "            filtered_by_signals.append(c)\n",
    "            continue\n",
    "\n",
    "        assigns = {}\n",
    "        for name, spots in signals.items():\n",
    "            try:\n",
    "                assigns[name] = assign_spots(spots, cell_masks[c], 30)\n",
    "            except Exception:\n",
    "                assigns[name] = []\n",
    "\n",
    "        df = {\n",
    "            key: sum(value) for key, value in assigns.items()\n",
    "            if isinstance(value, np.ndarray)\n",
    "        }\n",
    "        df[\"cell_id\"] = f'{c+1}'\n",
    "        last_key = list(df.keys())[-1]\n",
    "        last_value = df.pop(last_key)\n",
    "        df = {last_key: last_value, **df}\n",
    "        table.append(df)\n",
    "        cell_signals.append(signals)\n",
    "        new_cell_rois.append(cell_roi)\n",
    "        new_cell_masks.append(cell_masks[c])\n",
    "        new_cell_props.append(cell_props[c])\n",
    "    print(f\"Number of cells filtered by properties: {len(filtered_by_prop)}\")\n",
    "    print(f\"Number of cells filtered by signals: {len(filtered_by_signals)}\")\n",
    "    return pd.DataFrame(table).fillna(0), new_cell_rois, new_cell_masks, cell_signals, new_cell_props\n"
   ]
  },
  {
   "cell_type": "code",
   "execution_count": 27,
   "metadata": {},
   "outputs": [
    {
     "name": "stdout",
     "output_type": "stream",
     "text": [
      "F2410254A.299\n",
      "---------- Begin pipeline ----------\n",
      "Image shape: (3000, 4096, 3)\n",
      "Step 1: segment cells\n",
      "Number of cells: 512\n",
      "Step 2: extract ROIs\n",
      "Step 3: call signals and assign spots for each cell\n",
      "Number of cells filtered by properties: 62\n",
      "Number of cells filtered by signals: 71\n",
      "F2410254A.1\n",
      "---------- Begin pipeline ----------\n",
      "Image shape: (3000, 4096, 3)\n",
      "Step 1: segment cells\n",
      "Number of cells: 509\n",
      "Step 2: extract ROIs\n",
      "Step 3: call signals and assign spots for each cell\n",
      "Number of cells filtered by properties: 68\n",
      "Number of cells filtered by signals: 101\n",
      "F2409132A.268\n",
      "---------- Begin pipeline ----------\n",
      "Image shape: (3000, 4096, 3)\n",
      "Step 1: segment cells\n",
      "Number of cells: 426\n",
      "Step 2: extract ROIs\n",
      "Step 3: call signals and assign spots for each cell\n",
      "Number of cells filtered by properties: 46\n",
      "Number of cells filtered by signals: 81\n",
      "F2409132A.1\n",
      "---------- Begin pipeline ----------\n",
      "Image shape: (3000, 4096, 3)\n",
      "Step 1: segment cells\n",
      "Number of cells: 504\n",
      "Step 2: extract ROIs\n",
      "Step 3: call signals and assign spots for each cell\n",
      "Number of cells filtered by properties: 79\n",
      "Number of cells filtered by signals: 79\n"
     ]
    }
   ],
   "source": [
    "from shutil import rmtree\n",
    "import os\n",
    "main_dir = \"PML-RARA_results\"\n",
    "os.makedirs(main_dir, exist_ok=True)\n",
    "for name, img in images.items():\n",
    "    print(name)\n",
    "    res_dir = f\"./{main_dir}/{name}\"\n",
    "    if os.path.exists(res_dir):\n",
    "        rmtree(f\"./{res_dir}\")\n",
    "    os.mkdir(f\"./{res_dir}\")\n",
    "\n",
    "    if name.startswith(\"Trisomy\"):\n",
    "        signal_channels=[0]\n",
    "    else:\n",
    "        signal_channels=[0, 1]\n",
    "    #img = img[:1000, :1000, :]  # crop image for testing\n",
    "    table, rois, masks, signals, props = pipeline(img, signal_channels)\n",
    "    plot_figs(rois, masks, signals, res_dir)\n",
    "\n",
    "    fig = plot_all_rois(rois, masks, signals, colors={\"ch1\": \"hotpink\", \"ch2\": \"lime\", \"ch1+ch2\": \"yellow\"})\n",
    "    fig.savefig(f\"{res_dir}/{name}_all_cells.pdf\")\n",
    "    plt.close(fig)\n",
    "    table.to_csv(f\"{res_dir}/{name}_results.csv\", index=False)\n",
    "\n",
    "    fig = plot_on_img(img, props)\n",
    "    fig.savefig(f\"{res_dir}/{name}_cell_id.pdf\")\n",
    "    plt.close(fig)\n"
   ]
  },
  {
   "cell_type": "code",
   "execution_count": 28,
   "metadata": {},
   "outputs": [
    {
     "name": "stdout",
     "output_type": "stream",
     "text": [
      "['F2410254A.299', 'F2410254A.1', 'F2409132A.268', 'F2409132A.1']\n"
     ]
    }
   ],
   "source": [
    "import pprint\n",
    "\n",
    "pprint.pprint(list(images.keys()))"
   ]
  },
  {
   "cell_type": "code",
   "execution_count": 29,
   "metadata": {},
   "outputs": [
    {
     "data": {
      "text/plain": [
       "{'F2410254A.299_results': PosixPath('PML-RARA_results/F2410254A.299/F2410254A.299_results.csv'),\n",
       " 'F2410254A.1_results': PosixPath('PML-RARA_results/F2410254A.1/F2410254A.1_results.csv'),\n",
       " 'F2409132A.268_results': PosixPath('PML-RARA_results/F2409132A.268/F2409132A.268_results.csv'),\n",
       " 'F2409132A.1_results': PosixPath('PML-RARA_results/F2409132A.1/F2409132A.1_results.csv')}"
      ]
     },
     "execution_count": 29,
     "metadata": {},
     "output_type": "execute_result"
    }
   ],
   "source": [
    "# Results statistics\n",
    "\n",
    "## Sample F2408244A positive rate: 0.78\n",
    "## Sample F2409132A positive rate: 0.13\n",
    "## Sample F2410254A positive rate: 0.80\n",
    "\n",
    "res_dir = \"PML-RARA_results\"\n",
    "\n",
    "csv_paths = {}\n",
    "\n",
    "for s in images.keys():\n",
    "    sample_path = os.path.join(res_dir, s)\n",
    "    if os.path.isdir(sample_path):\n",
    "        for path in Path(sample_path).glob(\"*.csv\"):\n",
    "            csv_paths[path.stem] = path\n",
    "csv_paths"
   ]
  },
  {
   "cell_type": "code",
   "execution_count": 30,
   "metadata": {},
   "outputs": [],
   "source": [
    "def cal_rate(file_path):\n",
    "\n",
    "    data = pd.read_csv(file_path, header=0)\n",
    "    # normal ch1+ch2=2\n",
    "    #normal_cells = data[data['ch1'] + data['ch2'] == 2]\n",
    "\n",
    "    # abnorbal \n",
    "    abnormal_cells = data[(data['ch1+ch2'] >=2)]\n",
    "    \n",
    "    # positive rate\n",
    "    positive_rate = len(abnormal_cells) / len(data)\n",
    "    \n",
    "    return positive_rate"
   ]
  },
  {
   "cell_type": "code",
   "execution_count": 33,
   "metadata": {},
   "outputs": [
    {
     "name": "stdout",
     "output_type": "stream",
     "text": [
      "Sample F2410254A.299_results positive rate: 0.47\n",
      "Sample F2410254A.1_results positive rate: 0.54\n",
      "Sample F2409132A.268_results positive rate: 0.28\n",
      "Sample F2409132A.1_results positive rate: 0.26\n"
     ]
    }
   ],
   "source": [
    "\n",
    "# calculate positive rates\n",
    "for sample, csv_path in csv_paths.items():\n",
    "    sample_ = sample.split(\".\")[0]\n",
    "    positive_rate = cal_rate(csv_path)\n",
    "    expected_rate = expected_rates[sample_]\n",
    "    print(f\"Sample {sample} positive rate: {positive_rate:.2f}\")\n"
   ]
  }
 ],
 "metadata": {
  "kernelspec": {
   "display_name": "decode",
   "language": "python",
   "name": "python3"
  },
  "language_info": {
   "codemirror_mode": {
    "name": "ipython",
    "version": 3
   },
   "file_extension": ".py",
   "mimetype": "text/x-python",
   "name": "python",
   "nbconvert_exporter": "python",
   "pygments_lexer": "ipython3",
   "version": "3.10.14"
  }
 },
 "nbformat": 4,
 "nbformat_minor": 2
}
