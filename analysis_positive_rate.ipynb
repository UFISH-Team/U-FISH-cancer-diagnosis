{
 "cells": [
  {
   "cell_type": "code",
   "execution_count": 1,
   "metadata": {},
   "outputs": [],
   "source": [
    "from pathlib import Path\n",
    "import PIL\n",
    "import numpy as np\n",
    "import pandas as pd\n",
    "import matplotlib.pyplot as plt\n",
    "import sys\n",
    "import os\n",
    "\n",
    "from loguru import logger as log\n",
    "log.remove()\n",
    "log.add(sys.stdout, level=\"ERROR\")\n",
    "\n",
    "\n",
    "from ufish.api import UFish\n",
    "from cellpose import models\n",
    "\n",
    "from utils import (\n",
    "    get_signal_masks, assign_spots, segment_cells, extract_cells,\n",
    "    plot_figs, plot_all_rois, plot_on_img\n",
    ")\n",
    "from skimage.measure import regionprops, label"
   ]
  },
  {
   "cell_type": "code",
   "execution_count": 2,
   "metadata": {},
   "outputs": [
    {
     "name": "stdout",
     "output_type": "stream",
     "text": [
      "Sample dirs: ['F2409132A', 'F2410254A']\n",
      "{'F2409132A.1': WindowsPath('PML-RARA-Fusion/F2409132A/F2409132A.1.TIF'), 'F2409132A.268': WindowsPath('PML-RARA-Fusion/F2409132A/F2409132A.268.TIF'), 'F2410254A.1': WindowsPath('PML-RARA-Fusion/F2410254A/F2410254A.1.TIF'), 'F2410254A.299': WindowsPath('PML-RARA-Fusion/F2410254A/F2410254A.299.TIF')}\n"
     ]
    }
   ],
   "source": [
    "# Cancer pathology samples : PML/RARA\n",
    "data_dir = \"./PML-RARA-Fusion\"\n",
    "\n",
    "if not os.path.exists(data_dir):\n",
    "    raise FileNotFoundError(f\"The directory {data_dir} does not exist.\")\n",
    "\n",
    "sample = os.listdir(data_dir)\n",
    "print(\"Sample dirs:\", sample)\n",
    "\n",
    "img_paths = {}\n",
    "\n",
    "for s in sample:\n",
    "    sample_path = os.path.join(data_dir, s)\n",
    "    if os.path.isdir(sample_path):\n",
    "        for path in Path(sample_path).glob(\"*.TIF\"):\n",
    "            img_paths[path.stem] = path\n",
    "\n",
    "print(img_paths)\n",
    "\n",
    "images = {\n",
    "    name: np.array(PIL.Image.open(path))\n",
    "    for name, path in img_paths.items()\n",
    "}\n"
   ]
  },
  {
   "cell_type": "code",
   "execution_count": 3,
   "metadata": {},
   "outputs": [
    {
     "data": {
      "text/plain": [
       "<ufish.api.UFish at 0x2eb29559f90>"
      ]
     },
     "execution_count": 3,
     "metadata": {},
     "output_type": "execute_result"
    }
   ],
   "source": [
    "# initialize cellpose model\n",
    "cp = models.Cellpose(gpu=False, model_type=\"nuclei\")\n",
    "\n",
    "# initialize ufish model\n",
    "uf = UFish()\n",
    "uf.load_weights(\"./v1.0.1-DNAFISH_model.onnx\")"
   ]
  },
  {
   "cell_type": "code",
   "execution_count": 6,
   "metadata": {},
   "outputs": [
    {
     "data": {
      "text/plain": [
       "(3000, 4096, 3)"
      ]
     },
     "execution_count": 6,
     "metadata": {},
     "output_type": "execute_result"
    }
   ],
   "source": [
    "images['F2409132A.1'].shape"
   ]
  },
  {
   "cell_type": "code",
   "execution_count": 22,
   "metadata": {},
   "outputs": [],
   "source": [
    "# split each image into 4 ROIs\n",
    "img_rois = {}\n",
    "for name, img in images.items():\n",
    "    h, w = img.shape[:2]\n",
    "    roi_h, roi_w = h//2, w//2\n",
    "    _rois = [\n",
    "        img[i*roi_h:(i+1)*roi_h, j*roi_w:(j+1)*roi_w]\n",
    "        for i in range(2) for j in range(2)\n",
    "    ]\n",
    "    for i, roi in enumerate(_rois):\n",
    "        img_rois[name + f\"_ROI.{i}\"] = roi"
   ]
  },
  {
   "cell_type": "code",
   "execution_count": 13,
   "metadata": {},
   "outputs": [],
   "source": [
    "def filter_cell_by_prop(\n",
    "        prop,\n",
    "        img_size,\n",
    "        area_threshold=1000,\n",
    "        axis_ratio_threshold=0.5,\n",
    "        border_threshold=1\n",
    "        ):\n",
    "    close_to_edge = False\n",
    "    if prop.coords[:, 0].min() <= border_threshold or \\\n",
    "            prop.coords[:, 0].max() >= img_size[0] - border_threshold or \\\n",
    "            prop.coords[:, 1].min() <= border_threshold or \\\n",
    "            prop.coords[:, 1].max() >= img_size[1] - border_threshold:\n",
    "        close_to_edge = True\n",
    "    if close_to_edge:\n",
    "        return False\n",
    "    if prop.area < area_threshold:\n",
    "        return False\n",
    "    axis_ratio = prop.minor_axis_length / prop.major_axis_length\n",
    "    if axis_ratio < axis_ratio_threshold:\n",
    "        return False\n",
    "    return True\n",
    "\n",
    "def filter_cell_by_signals(\n",
    "        signals, num_thresh_per_channel=3, num_thresh=5):\n",
    "    count = 0\n",
    "    for _, signal in signals.items():\n",
    "        count += signal.shape[0]\n",
    "        if signal.shape[0] > num_thresh_per_channel:\n",
    "            return False\n",
    "    if count < 2:\n",
    "        return False\n",
    "    if count > num_thresh:\n",
    "        return False\n",
    "    return True"
   ]
  },
  {
   "cell_type": "code",
   "execution_count": 14,
   "metadata": {},
   "outputs": [],
   "source": [
    "from skimage.morphology import dilation, disk\n",
    "\n",
    "# Define pipeline\n",
    "def pipeline(img, signal_channels=[0, 1]):\n",
    "    print(\"---------- Begin pipeline ----------\")\n",
    "    print(f\"Image shape: {img.shape}\")\n",
    "    print(\"Step 1: segment cells\")\n",
    "    mask = segment_cells(cp, img)\n",
    "    print(f\"Number of cells: {mask.max()}\")\n",
    "    mask = dilation(mask, disk(3))\n",
    "\n",
    "    print(\"Step 2: extract ROIs\")\n",
    "    cell_rois, cell_masks, cell_props = extract_cells(\n",
    "        img, mask, target_size=128)\n",
    "    \n",
    "    print(\"Step 3: call signals and assign spots for each cell\")\n",
    "    table = []\n",
    "    cell_signals = []\n",
    "    new_cell_rois = []\n",
    "    new_cell_masks = []\n",
    "    new_cell_props = []\n",
    "    filtered_by_prop = []\n",
    "    filtered_by_signals = []\n",
    "    for c, cell_roi in enumerate(cell_rois):\n",
    "        cell_prop = cell_props[c]\n",
    "        if not filter_cell_by_prop(cell_prop, mask.shape):\n",
    "            filtered_by_prop.append(c)\n",
    "            continue\n",
    "        signal_mask_merge, signal_masks_sub = get_signal_masks(\n",
    "            uf, cell_roi, signal_channels, quantile=5,\n",
    "            mask_dilation_size=4, hard_threshold=30\n",
    "        )\n",
    "        signals = {}\n",
    "        for ch in signal_channels:\n",
    "            signals[f\"ch{ch+1}\"] = []\n",
    "        name = \"+\".join([f\"ch{ch+1}\" for ch in signal_channels])\n",
    "        signals[name] = []\n",
    "        for i, ch in enumerate(signal_channels):\n",
    "            single_ch = regionprops(label(signal_masks_sub[i]))\n",
    "            spots = np.array([cc.centroid for cc in single_ch])\n",
    "            signals[f\"ch{ch+1}\"] = spots\n",
    "        merged = regionprops(label(signal_mask_merge))\n",
    "        spots = np.array([cc.centroid for cc in merged])\n",
    "        name = \"+\".join([f\"ch{ch+1}\" for ch in signal_channels])\n",
    "        signals[name] = spots\n",
    "\n",
    "        if not filter_cell_by_signals(signals):\n",
    "            filtered_by_signals.append(c)\n",
    "            continue\n",
    "\n",
    "        assigns = {}\n",
    "        for name, spots in signals.items():\n",
    "            try:\n",
    "                assigns[name] = assign_spots(spots, cell_masks[c], 30)\n",
    "            except Exception:\n",
    "                assigns[name] = []\n",
    "\n",
    "        df = {\n",
    "            key: sum(value) for key, value in assigns.items()\n",
    "            if isinstance(value, np.ndarray)\n",
    "        }\n",
    "        df[\"cell_id\"] = f'{c+1}'\n",
    "        last_key = list(df.keys())[-1]\n",
    "        last_value = df.pop(last_key)\n",
    "        df = {last_key: last_value, **df}\n",
    "        table.append(df)\n",
    "        cell_signals.append(signals)\n",
    "        new_cell_rois.append(cell_roi)\n",
    "        new_cell_masks.append(cell_masks[c])\n",
    "        new_cell_props.append(cell_props[c])\n",
    "    print(f\"Number of cells filtered by properties: {len(filtered_by_prop)}\")\n",
    "    print(f\"Number of cells filtered by signals: {len(filtered_by_signals)}\")\n",
    "    return pd.DataFrame(table).fillna(0), new_cell_rois, new_cell_masks, cell_signals, new_cell_props\n"
   ]
  },
  {
   "cell_type": "code",
   "execution_count": 16,
   "metadata": {},
   "outputs": [
    {
     "name": "stdout",
     "output_type": "stream",
     "text": [
      "F2409132A.1_ROI.0\n",
      "---------- Begin pipeline ----------\n",
      "Image shape: (1500, 2048, 3)\n",
      "Step 1: segment cells\n",
      "Number of cells: 142\n",
      "Step 2: extract ROIs\n",
      "Step 3: call signals and assign spots for each cell\n",
      "Number of cells filtered by properties: 29\n",
      "Number of cells filtered by signals: 22\n",
      "F2409132A.1_ROI.1\n",
      "---------- Begin pipeline ----------\n",
      "Image shape: (1500, 2048, 3)\n",
      "Step 1: segment cells\n",
      "Number of cells: 110\n",
      "Step 2: extract ROIs\n",
      "Step 3: call signals and assign spots for each cell\n",
      "Number of cells filtered by properties: 26\n",
      "Number of cells filtered by signals: 22\n",
      "F2409132A.1_ROI.2\n",
      "---------- Begin pipeline ----------\n",
      "Image shape: (1500, 2048, 3)\n",
      "Step 1: segment cells\n",
      "Number of cells: 125\n",
      "Step 2: extract ROIs\n",
      "Step 3: call signals and assign spots for each cell\n",
      "Number of cells filtered by properties: 19\n",
      "Number of cells filtered by signals: 21\n",
      "F2409132A.1_ROI.3\n",
      "---------- Begin pipeline ----------\n",
      "Image shape: (1500, 2048, 3)\n",
      "Step 1: segment cells\n",
      "Number of cells: 136\n",
      "Step 2: extract ROIs\n",
      "Step 3: call signals and assign spots for each cell\n",
      "Number of cells filtered by properties: 30\n",
      "Number of cells filtered by signals: 24\n",
      "F2409132A.268_ROI.0\n",
      "---------- Begin pipeline ----------\n",
      "Image shape: (1500, 2048, 3)\n",
      "Step 1: segment cells\n",
      "Number of cells: 111\n",
      "Step 2: extract ROIs\n",
      "Step 3: call signals and assign spots for each cell\n",
      "Number of cells filtered by properties: 23\n",
      "Number of cells filtered by signals: 14\n",
      "F2409132A.268_ROI.1\n",
      "---------- Begin pipeline ----------\n",
      "Image shape: (1500, 2048, 3)\n",
      "Step 1: segment cells\n",
      "Number of cells: 117\n",
      "Step 2: extract ROIs\n",
      "Step 3: call signals and assign spots for each cell\n",
      "Number of cells filtered by properties: 25\n",
      "Number of cells filtered by signals: 21\n",
      "F2409132A.268_ROI.2\n",
      "---------- Begin pipeline ----------\n",
      "Image shape: (1500, 2048, 3)\n",
      "Step 1: segment cells\n",
      "Number of cells: 111\n",
      "Step 2: extract ROIs\n",
      "Step 3: call signals and assign spots for each cell\n",
      "Number of cells filtered by properties: 11\n",
      "Number of cells filtered by signals: 22\n",
      "F2409132A.268_ROI.3\n",
      "---------- Begin pipeline ----------\n",
      "Image shape: (1500, 2048, 3)\n",
      "Step 1: segment cells\n",
      "Number of cells: 103\n",
      "Step 2: extract ROIs\n",
      "Step 3: call signals and assign spots for each cell\n",
      "Number of cells filtered by properties: 15\n",
      "Number of cells filtered by signals: 17\n",
      "F2410254A.1_ROI.0\n",
      "---------- Begin pipeline ----------\n",
      "Image shape: (1500, 2048, 3)\n",
      "Step 1: segment cells\n",
      "Number of cells: 142\n",
      "Step 2: extract ROIs\n",
      "Step 3: call signals and assign spots for each cell\n",
      "Number of cells filtered by properties: 25\n",
      "Number of cells filtered by signals: 28\n",
      "F2410254A.1_ROI.1\n",
      "---------- Begin pipeline ----------\n",
      "Image shape: (1500, 2048, 3)\n",
      "Step 1: segment cells\n",
      "Number of cells: 170\n",
      "Step 2: extract ROIs\n",
      "Step 3: call signals and assign spots for each cell\n",
      "Number of cells filtered by properties: 30\n",
      "Number of cells filtered by signals: 28\n",
      "F2410254A.1_ROI.2\n",
      "---------- Begin pipeline ----------\n",
      "Image shape: (1500, 2048, 3)\n",
      "Step 1: segment cells\n",
      "Number of cells: 95\n",
      "Step 2: extract ROIs\n",
      "Step 3: call signals and assign spots for each cell\n",
      "Number of cells filtered by properties: 18\n",
      "Number of cells filtered by signals: 13\n",
      "F2410254A.1_ROI.3\n",
      "---------- Begin pipeline ----------\n",
      "Image shape: (1500, 2048, 3)\n",
      "Step 1: segment cells\n",
      "Number of cells: 105\n",
      "Step 2: extract ROIs\n",
      "Step 3: call signals and assign spots for each cell\n",
      "Number of cells filtered by properties: 16\n",
      "Number of cells filtered by signals: 17\n",
      "F2410254A.299_ROI.0\n",
      "---------- Begin pipeline ----------\n",
      "Image shape: (1500, 2048, 3)\n",
      "Step 1: segment cells\n",
      "Number of cells: 125\n",
      "Step 2: extract ROIs\n",
      "Step 3: call signals and assign spots for each cell\n",
      "Number of cells filtered by properties: 26\n",
      "Number of cells filtered by signals: 27\n",
      "F2410254A.299_ROI.1\n",
      "---------- Begin pipeline ----------\n",
      "Image shape: (1500, 2048, 3)\n",
      "Step 1: segment cells\n",
      "Number of cells: 119\n",
      "Step 2: extract ROIs\n",
      "Step 3: call signals and assign spots for each cell\n",
      "Number of cells filtered by properties: 17\n",
      "Number of cells filtered by signals: 13\n",
      "F2410254A.299_ROI.2\n",
      "---------- Begin pipeline ----------\n",
      "Image shape: (1500, 2048, 3)\n",
      "Step 1: segment cells\n",
      "Number of cells: 168\n",
      "Step 2: extract ROIs\n",
      "Step 3: call signals and assign spots for each cell\n",
      "Number of cells filtered by properties: 26\n",
      "Number of cells filtered by signals: 29\n",
      "F2410254A.299_ROI.3\n",
      "---------- Begin pipeline ----------\n",
      "Image shape: (1500, 2048, 3)\n",
      "Step 1: segment cells\n",
      "Number of cells: 116\n",
      "Step 2: extract ROIs\n",
      "Step 3: call signals and assign spots for each cell\n",
      "Number of cells filtered by properties: 25\n",
      "Number of cells filtered by signals: 12\n"
     ]
    }
   ],
   "source": [
    "from shutil import rmtree\n",
    "import os\n",
    "main_dir = \"PML-RARA_results\"\n",
    "os.makedirs(main_dir, exist_ok=True)\n",
    "for name, img in img_rois.items():\n",
    "    print(name)\n",
    "    res_dir = f\"./{main_dir}/{name}\"\n",
    "    if os.path.exists(res_dir):\n",
    "        rmtree(f\"./{res_dir}\")\n",
    "    os.mkdir(f\"./{res_dir}\")\n",
    "\n",
    "    if name.startswith(\"Trisomy\"):\n",
    "        signal_channels=[0]\n",
    "    else:\n",
    "        signal_channels=[0, 1]\n",
    "    #img = img[:1000, :1000, :]  # crop image for testing\n",
    "    table, rois, masks, signals, props = pipeline(img, signal_channels)\n",
    "    plot_figs(rois, masks, signals, res_dir)\n",
    "\n",
    "    fig = plot_all_rois(rois, masks, signals, colors={\"ch1\": \"hotpink\", \"ch2\": \"lime\", \"ch1+ch2\": \"yellow\"})\n",
    "    fig.savefig(f\"{res_dir}/{name}_all_cells.pdf\")\n",
    "    plt.close(fig)\n",
    "    table.to_csv(f\"{res_dir}/{name}_results.csv\", index=False)\n",
    "\n",
    "    fig = plot_on_img(img, props)\n",
    "    fig.savefig(f\"{res_dir}/{name}_cell_id.pdf\")\n",
    "    plt.close(fig)\n"
   ]
  },
  {
   "cell_type": "code",
   "execution_count": 24,
   "metadata": {},
   "outputs": [
    {
     "name": "stdout",
     "output_type": "stream",
     "text": [
      "dict_keys(['F2409132A.1_ROI.0', 'F2409132A.1_ROI.1', 'F2409132A.1_ROI.2', 'F2409132A.1_ROI.3', 'F2409132A.268_ROI.0', 'F2409132A.268_ROI.1', 'F2409132A.268_ROI.2', 'F2409132A.268_ROI.3', 'F2410254A.1_ROI.0', 'F2410254A.1_ROI.1', 'F2410254A.1_ROI.2', 'F2410254A.1_ROI.3', 'F2410254A.299_ROI.0', 'F2410254A.299_ROI.1', 'F2410254A.299_ROI.2', 'F2410254A.299_ROI.3'])\n"
     ]
    }
   ],
   "source": [
    "print(img_rois.keys())"
   ]
  },
  {
   "cell_type": "code",
   "execution_count": 25,
   "metadata": {},
   "outputs": [
    {
     "data": {
      "text/plain": [
       "{'F2409132A.1_ROI.0_results': WindowsPath('PML-RARA_results/F2409132A.1_ROI.0/F2409132A.1_ROI.0_results.csv'),\n",
       " 'F2409132A.1_ROI.1_results': WindowsPath('PML-RARA_results/F2409132A.1_ROI.1/F2409132A.1_ROI.1_results.csv'),\n",
       " 'F2409132A.1_ROI.2_results': WindowsPath('PML-RARA_results/F2409132A.1_ROI.2/F2409132A.1_ROI.2_results.csv'),\n",
       " 'F2409132A.1_ROI.3_results': WindowsPath('PML-RARA_results/F2409132A.1_ROI.3/F2409132A.1_ROI.3_results.csv'),\n",
       " 'F2409132A.268_ROI.0_results': WindowsPath('PML-RARA_results/F2409132A.268_ROI.0/F2409132A.268_ROI.0_results.csv'),\n",
       " 'F2409132A.268_ROI.1_results': WindowsPath('PML-RARA_results/F2409132A.268_ROI.1/F2409132A.268_ROI.1_results.csv'),\n",
       " 'F2409132A.268_ROI.2_results': WindowsPath('PML-RARA_results/F2409132A.268_ROI.2/F2409132A.268_ROI.2_results.csv'),\n",
       " 'F2409132A.268_ROI.3_results': WindowsPath('PML-RARA_results/F2409132A.268_ROI.3/F2409132A.268_ROI.3_results.csv'),\n",
       " 'F2410254A.1_ROI.0_results': WindowsPath('PML-RARA_results/F2410254A.1_ROI.0/F2410254A.1_ROI.0_results.csv'),\n",
       " 'F2410254A.1_ROI.1_results': WindowsPath('PML-RARA_results/F2410254A.1_ROI.1/F2410254A.1_ROI.1_results.csv'),\n",
       " 'F2410254A.1_ROI.2_results': WindowsPath('PML-RARA_results/F2410254A.1_ROI.2/F2410254A.1_ROI.2_results.csv'),\n",
       " 'F2410254A.1_ROI.3_results': WindowsPath('PML-RARA_results/F2410254A.1_ROI.3/F2410254A.1_ROI.3_results.csv'),\n",
       " 'F2410254A.299_ROI.0_results': WindowsPath('PML-RARA_results/F2410254A.299_ROI.0/F2410254A.299_ROI.0_results.csv'),\n",
       " 'F2410254A.299_ROI.1_results': WindowsPath('PML-RARA_results/F2410254A.299_ROI.1/F2410254A.299_ROI.1_results.csv'),\n",
       " 'F2410254A.299_ROI.2_results': WindowsPath('PML-RARA_results/F2410254A.299_ROI.2/F2410254A.299_ROI.2_results.csv'),\n",
       " 'F2410254A.299_ROI.3_results': WindowsPath('PML-RARA_results/F2410254A.299_ROI.3/F2410254A.299_ROI.3_results.csv')}"
      ]
     },
     "execution_count": 25,
     "metadata": {},
     "output_type": "execute_result"
    }
   ],
   "source": [
    "# Results statistics\n",
    "\n",
    "res_dir = \"PML-RARA_results\"\n",
    "\n",
    "csv_paths = {}\n",
    "\n",
    "for s in img_rois.keys():\n",
    "    sample_path = os.path.join(res_dir, s)\n",
    "    if os.path.isdir(sample_path):\n",
    "        for path in Path(sample_path).glob(\"*.csv\"):\n",
    "            csv_paths[path.stem] = path\n",
    "csv_paths"
   ]
  },
  {
   "cell_type": "code",
   "execution_count": 26,
   "metadata": {},
   "outputs": [],
   "source": [
    "def cal_rate(file_path):\n",
    "\n",
    "    data = pd.read_csv(file_path, header=0)\n",
    "\n",
    "    # abnorbal \n",
    "    abnormal_cells = data[(data['ch1+ch2'] ==2)]\n",
    "    # normal \n",
    "    normal_cells = data[(data['ch1+ch2'] ==0)]\n",
    "    \n",
    "    # positive rate\n",
    "    positive_rate = len(abnormal_cells) / (len(normal_cells)+len(abnormal_cells))\n",
    "    \n",
    "    return positive_rate"
   ]
  },
  {
   "cell_type": "code",
   "execution_count": 32,
   "metadata": {},
   "outputs": [
    {
     "name": "stdout",
     "output_type": "stream",
     "text": [
      "Sample F2409132A.1_ROI.0_results positive rate: 0.40\n",
      "Sample F2409132A.1_ROI.1_results positive rate: 0.30\n",
      "Sample F2409132A.1_ROI.2_results positive rate: 0.19\n",
      "Sample F2409132A.1_ROI.3_results positive rate: 0.38\n",
      "Sample F2409132A.268_ROI.0_results positive rate: 0.23\n",
      "Sample F2409132A.268_ROI.1_results positive rate: 0.42\n",
      "Sample F2409132A.268_ROI.2_results positive rate: 0.35\n",
      "Sample F2409132A.268_ROI.3_results positive rate: 0.40\n",
      "Sample F2410254A.1_ROI.0_results positive rate: 0.65\n",
      "Sample F2410254A.1_ROI.1_results positive rate: 0.67\n",
      "Sample F2410254A.1_ROI.2_results positive rate: 0.79\n",
      "Sample F2410254A.1_ROI.3_results positive rate: 0.64\n",
      "Sample F2410254A.299_ROI.0_results positive rate: 0.67\n",
      "Sample F2410254A.299_ROI.1_results positive rate: 0.63\n",
      "Sample F2410254A.299_ROI.2_results positive rate: 0.59\n",
      "Sample F2410254A.299_ROI.3_results positive rate: 0.76\n"
     ]
    }
   ],
   "source": [
    "import pandas as pd\n",
    "\n",
    "# calculate positive rates\n",
    "rows = []\n",
    "for sample, csv_path in csv_paths.items():\n",
    "    positive_rate = cal_rate(csv_path)\n",
    "    print(f\"Sample {sample} positive rate: {positive_rate:.2f}\")\n",
    "    group = \"before\" if sample.startswith(\"F2409132A\") else \"after\"\n",
    "    rows.append([sample, positive_rate, group])\n",
    "\n",
    "df = pd.DataFrame(rows, columns=[\"sample\", \"positive_rate\", \"group\"])"
   ]
  },
  {
   "cell_type": "code",
   "execution_count": 41,
   "metadata": {},
   "outputs": [
    {
     "data": {
      "image/png": "[encoded data removed]",
      "text/plain": [
       "<Figure size 400x400 with 1 Axes>"
      ]
     },
     "metadata": {},
     "output_type": "display_data"
    }
   ],
   "source": [
    "from seaborn import boxplot\n",
    "fig, ax = plt.subplots(figsize=(4, 4))\n",
    "boxplot(data=df, x=\"group\", y=\"positive_rate\")\n",
    "plt.savefig(\"./PML-RARA_results/positive_rate_compare.pdf\")"
   ]
  },
  {
   "cell_type": "code",
   "execution_count": 37,
   "metadata": {},
   "outputs": [
    {
     "data": {
      "text/plain": [
       "TtestResult(statistic=-8.786279121596936, pvalue=4.5236166863180905e-07, df=14.0)"
      ]
     },
     "execution_count": 37,
     "metadata": {},
     "output_type": "execute_result"
    }
   ],
   "source": [
    "from scipy.stats import ttest_ind\n",
    "\n",
    "before = df[df[\"group\"] == \"before\"][\"positive_rate\"]\n",
    "after = df[df[\"group\"] == \"after\"][\"positive_rate\"]\n",
    "\n",
    "ttest_ind(before, after)"
   ]
  },
  {
   "cell_type": "code",
   "execution_count": 38,
   "metadata": {},
   "outputs": [
    {
     "data": {
      "text/plain": [
       "(0.334878357680044, 0.6746331755296919)"
      ]
     },
     "execution_count": 38,
     "metadata": {},
     "output_type": "execute_result"
    }
   ],
   "source": [
    "np.mean(before), np.mean(after)"
   ]
  }
 ],
 "metadata": {
  "kernelspec": {
   "display_name": "decode",
   "language": "python",
   "name": "python3"
  },
  "language_info": {
   "codemirror_mode": {
    "name": "ipython",
    "version": 3
   },
   "file_extension": ".py",
   "mimetype": "text/x-python",
   "name": "python",
   "nbconvert_exporter": "python",
   "pygments_lexer": "ipython3",
   "version": "3.10.12"
  }
 },
 "nbformat": 4,
 "nbformat_minor": 2
}
