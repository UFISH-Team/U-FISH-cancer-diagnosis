{
 "cells": [
  {
   "cell_type": "code",
   "execution_count": 1,
   "metadata": {},
   "outputs": [],
   "source": [
    "from pathlib import Path\n",
    "import PIL\n",
    "import numpy as np\n",
    "import matplotlib.pyplot as plt "
   ]
  },
  {
   "cell_type": "code",
   "execution_count": 2,
   "metadata": {},
   "outputs": [
    {
     "name": "stdout",
     "output_type": "stream",
     "text": [
      "{'Dual fusion': WindowsPath('data/Dual fusion.TIF'), 'separation probe': WindowsPath('data/separation probe.TIF'), 'Trisomy 8': WindowsPath('data/Trisomy 8.TIF')}\n"
     ]
    }
   ],
   "source": [
    "# Cancer pathology samples\n",
    "data_dir = \"./data/\"\n",
    "img_paths = {\n",
    "    path.stem: path for path in Path(data_dir).glob(\"*.TIF\")\n",
    "}\n",
    "\n",
    "print(img_paths)\n",
    "\n",
    "images = {\n",
    "    name: np.array(PIL.Image.open(path))\n",
    "    for name, path in img_paths.items()\n",
    "}"
   ]
  },
  {
   "cell_type": "code",
   "execution_count": 3,
   "metadata": {},
   "outputs": [
    {
     "name": "stderr",
     "output_type": "stream",
     "text": [
      "\u001b[32m2024-06-17 15:18:42.983\u001b[0m | \u001b[1mINFO    \u001b[0m | \u001b[36mufish.api\u001b[0m:\u001b[36m_load_onnx\u001b[0m:\u001b[36m296\u001b[0m - \u001b[1mLoading ONNX from ./v1.0.1-DNAFISH_model.onnx\u001b[0m\n",
      "\u001b[32m2024-06-17 15:18:42.984\u001b[0m | \u001b[1mINFO    \u001b[0m | \u001b[36mufish.api\u001b[0m:\u001b[36m_load_onnx\u001b[0m:\u001b[36m303\u001b[0m - \u001b[1mUsing ONNX runtime providers: ['CUDAExecutionProvider']\u001b[0m\n"
     ]
    },
    {
     "data": {
      "text/plain": [
       "<ufish.api.UFish at 0x184afd41330>"
      ]
     },
     "execution_count": 3,
     "metadata": {},
     "output_type": "execute_result"
    }
   ],
   "source": [
    "from ufish.api import UFish\n",
    "from cellpose import models\n",
    "\n",
    "# initialize cellpose model\n",
    "cp = models.Cellpose(gpu=False, model_type=\"nuclei\")\n",
    "\n",
    "# initialize ufish model\n",
    "uf = UFish(device=\"cuda\")\n",
    "uf.load_weights(\"./v1.0.1-DNAFISH_model.onnx\")"
   ]
  },
  {
   "cell_type": "code",
   "execution_count": 4,
   "metadata": {},
   "outputs": [],
   "source": [
    "from utils import segment_cells"
   ]
  },
  {
   "cell_type": "code",
   "execution_count": 5,
   "metadata": {},
   "outputs": [],
   "source": [
    "masks = segment_cells(cp, images[\"Dual fusion\"])"
   ]
  },
  {
   "cell_type": "code",
   "execution_count": 49,
   "metadata": {},
   "outputs": [],
   "source": [
    "from skimage.measure import regionprops, label"
   ]
  },
  {
   "cell_type": "code",
   "execution_count": 13,
   "metadata": {},
   "outputs": [],
   "source": [
    "mask = masks\n",
    "image = images[\"Dual fusion\"]\n",
    "target_size = 128"
   ]
  },
  {
   "cell_type": "code",
   "execution_count": 46,
   "metadata": {},
   "outputs": [],
   "source": [
    "def extract_cells(image: np.ndarray, mask: np.ndarray, target_size=128):\n",
    "    cell_rois = []\n",
    "    cell_props = []\n",
    "    cell_masks = []\n",
    "\n",
    "    props = regionprops(mask)\n",
    "\n",
    "    for i, prop in enumerate(props):\n",
    "        x0, y0, x1, y1 = prop.bbox\n",
    "        w, h = x1 - x0, y1 - y0\n",
    "        long_side = max(w, h)\n",
    "        if long_side > target_size:\n",
    "            continue\n",
    "        roi = np.zeros(\n",
    "            (target_size, target_size, image.shape[2]),\n",
    "            dtype=image.dtype\n",
    "        )\n",
    "        start_y = (target_size - h) // 2\n",
    "        start_x = (target_size - w) // 2\n",
    "        coords = prop.coords\n",
    "        roi_y = coords[:, 0] - x0 + start_y\n",
    "        roi_x = coords[:, 1] - y0 + start_x\n",
    "        roi[roi_y, roi_x] = image[coords[:, 0], coords[:, 1], :]\n",
    "        cell_rois.append(roi)\n",
    "        cell_props.append(prop)\n",
    "        cell_mask = np.zeros((target_size, target_size), dtype=np.uint8)\n",
    "        cell_mask[roi_y, roi_x] = 1\n",
    "        cell_masks.append(cell_mask)\n",
    "    return cell_rois, cell_masks, cell_props\n",
    "\n",
    "cell_rois, cell_masks, cell_props = extract_cells(image, mask, target_size)\n"
   ]
  },
  {
   "cell_type": "code",
   "execution_count": 55,
   "metadata": {},
   "outputs": [],
   "source": [
    "cell_roi = cell_rois[0]\n",
    "cell_mask = cell_masks[0]\n",
    "signal_channels = [0, 1]"
   ]
  },
  {
   "cell_type": "code",
   "execution_count": 59,
   "metadata": {},
   "outputs": [],
   "source": [
    "cell_signal = cell_roi[..., signal_channels].mean(axis=-1)"
   ]
  },
  {
   "cell_type": "code",
   "execution_count": 63,
   "metadata": {},
   "outputs": [
    {
     "name": "stderr",
     "output_type": "stream",
     "text": [
      "\u001b[32m2024-06-17 23:24:33.412\u001b[0m | \u001b[1mINFO    \u001b[0m | \u001b[36mufish.api\u001b[0m:\u001b[36mpredict\u001b[0m:\u001b[36m469\u001b[0m - \u001b[1mAxes not specified, infering from image shape.\u001b[0m\n",
      "\u001b[32m2024-06-17 23:24:33.414\u001b[0m | \u001b[1mINFO    \u001b[0m | \u001b[36mufish.api\u001b[0m:\u001b[36mpredict\u001b[0m:\u001b[36m471\u001b[0m - \u001b[1mInfered axes: yx, image shape: (128, 128)\u001b[0m\n"
     ]
    }
   ],
   "source": [
    "spots, _ = uf.predict(cell_signal)"
   ]
  },
  {
   "cell_type": "code",
   "execution_count": 64,
   "metadata": {},
   "outputs": [
    {
     "data": {
      "text/html": [
       "<div>\n",
       "<style scoped>\n",
       "    .dataframe tbody tr th:only-of-type {\n",
       "        vertical-align: middle;\n",
       "    }\n",
       "\n",
       "    .dataframe tbody tr th {\n",
       "        vertical-align: top;\n",
       "    }\n",
       "\n",
       "    .dataframe thead th {\n",
       "        text-align: right;\n",
       "    }\n",
       "</style>\n",
       "<table border=\"1\" class=\"dataframe\">\n",
       "  <thead>\n",
       "    <tr style=\"text-align: right;\">\n",
       "      <th></th>\n",
       "      <th>axis-0</th>\n",
       "      <th>axis-1</th>\n",
       "    </tr>\n",
       "  </thead>\n",
       "  <tbody>\n",
       "    <tr>\n",
       "      <th>0</th>\n",
       "      <td>42</td>\n",
       "      <td>53</td>\n",
       "    </tr>\n",
       "    <tr>\n",
       "      <th>1</th>\n",
       "      <td>55</td>\n",
       "      <td>64</td>\n",
       "    </tr>\n",
       "    <tr>\n",
       "      <th>2</th>\n",
       "      <td>58</td>\n",
       "      <td>73</td>\n",
       "    </tr>\n",
       "    <tr>\n",
       "      <th>3</th>\n",
       "      <td>64</td>\n",
       "      <td>58</td>\n",
       "    </tr>\n",
       "  </tbody>\n",
       "</table>\n",
       "</div>"
      ],
      "text/plain": [
       "   axis-0  axis-1\n",
       "0      42      53\n",
       "1      55      64\n",
       "2      58      73\n",
       "3      64      58"
      ]
     },
     "execution_count": 64,
     "metadata": {},
     "output_type": "execute_result"
    }
   ],
   "source": [
    "spots"
   ]
  },
  {
   "cell_type": "code",
   "execution_count": 50,
   "metadata": {},
   "outputs": [],
   "source": [
    "from utils import get_merge_and_split_masks, assign_spots"
   ]
  },
  {
   "cell_type": "code",
   "execution_count": 45,
   "metadata": {},
   "outputs": [
    {
     "data": {
      "text/plain": [
       "(128, 128, 3)"
      ]
     },
     "execution_count": 45,
     "metadata": {},
     "output_type": "execute_result"
    }
   ],
   "source": [
    "def pipeline(\n",
    "        cellpose_instance, ufish_instance,\n",
    "        img, signal_channels=[0, 1],\n",
    "        ):\n",
    "    print(\"Processing image:\")\n",
    "    print(f\"Image shape: {img.shape}\")\n",
    "    print(\"Step 1: segment cells\")\n",
    "    masks = segment_cells(cellpose_instance, img)\n",
    "\n",
    "    print(\"Step 2: extract ROIs\")\n",
    "    cell_rois, cell_masks, cell_props = extract_cells(img, masks)\n",
    "\n",
    "    print(\"Step 3: call spots and assign spots\")\n",
    "    table = []\n",
    "    cell_signals = []\n",
    "    for i, c_roi in enumerate(cell_rois):\n",
    "        signals = {}\n",
    "        for ch in signal_channels:\n",
    "            signals[f\"ch{ch+1}\"] = []\n",
    "        name = \"+\".join([f\"ch{ch+1}\" for ch in signal_channels])\n",
    "        signals[name] = []\n",
    "        merge_mask, signal_masks, signal_masks_sub = get_merge_and_split_masks(\n",
    "            ufish_instance, c_roi, signal_channels,\n",
    "            quantile=20, square_size=5)\n",
    "        if signal_masks is None:\n",
    "            for ch in signal_channels:\n",
    "                signals[f\"ch{ch+1}\"] = []\n",
    "            name = \"+\".join([f\"ch{ch+1}\" for ch in signal_channels])\n",
    "            signals[name] = []\n",
    "        else:\n",
    "            for ch in signal_channels:\n",
    "                single_ch = regionprops(label(signal_masks_sub[ch]))\n",
    "                spots = np.array([cc.centroid for cc in single_ch])\n",
    "                signals[f\"ch{ch+1}\"] = spots\n",
    "\n",
    "            merged = regionprops(label(merge_mask))\n",
    "            spots = np.array([cc.centroid for cc in merged])\n",
    "            name = \"+\".join([f\"ch{ch+1}\" for ch in signal_channels])\n",
    "            signals[name] = spots\n",
    "\n",
    "        assigns = {}\n",
    "        for name, spots in signals.items():\n",
    "            try:\n",
    "                assigns[name] = assign_spots(spots, cell_masks[w], 30)\n",
    "            except Exception:\n",
    "                assigns[name] = []\n",
    "\n",
    "        df = {\n",
    "            key: sum(value) for key, value in assigns.items()\n",
    "            if isinstance(value, np.ndarray)\n",
    "        }\n",
    "        df[\"cell_id\"] = f'{w+1}'\n",
    "        last_key = list(df.keys())[-1]\n",
    "        last_value = df.pop(last_key)\n",
    "        df = {last_key: last_value, **df}\n",
    "        table.append(df)\n",
    "        cell_signals.append(signals)\n"
   ]
  },
  {
   "cell_type": "code",
   "execution_count": null,
   "metadata": {},
   "outputs": [],
   "source": []
  }
 ],
 "metadata": {
  "kernelspec": {
   "display_name": "ufish",
   "language": "python",
   "name": "python3"
  },
  "language_info": {
   "codemirror_mode": {
    "name": "ipython",
    "version": 3
   },
   "file_extension": ".py",
   "mimetype": "text/x-python",
   "name": "python",
   "nbconvert_exporter": "python",
   "pygments_lexer": "ipython3",
   "version": "3.10.13"
  }
 },
 "nbformat": 4,
 "nbformat_minor": 2
}
